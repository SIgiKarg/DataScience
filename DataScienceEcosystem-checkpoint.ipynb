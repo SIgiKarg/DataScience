{
 "cells": [
  {
   "cell_type": "markdown",
   "id": "e9593a38-6e9b-4026-b4d1-7286a42fb3fe",
   "metadata": {},
   "source": [
    "# Data Science Tools and Ecosystem"
   ]
  },
  {
   "cell_type": "markdown",
   "id": "8ec1ab9d-ac79-4c3a-b836-356acf12d078",
   "metadata": {},
   "source": [
    "In this notebook, Data Science Tools and Ecosystem are summarized."
   ]
  },
  {
   "cell_type": "markdown",
   "id": "26861071-121a-4e51-a703-9494b0b82eb8",
   "metadata": {},
   "source": [
    "**Objectives:**\n",
    "* List popular languages for Data Science\n",
    "* List commonly used libraries used by Data Scientists\n",
    "* List Data Science tools\n",
    "* Show examples for arithmetic expressiosn"
   ]
  },
  {
   "cell_type": "markdown",
   "id": "96271e80-3b66-47ae-9e41-f89ca8261c61",
   "metadata": {},
   "source": [
    "Some of the popular languages that Data Scientists use are:\n",
    "1. Python\n",
    "2. R\n",
    "3. Julia\n"
   ]
  },
  {
   "cell_type": "markdown",
   "id": "bfd1f663-ee15-4bcc-817e-fb41c81e3e38",
   "metadata": {},
   "source": [
    "Some of the commonly used libraries used by Data Scientists include:\n",
    "1. Pandas\n",
    "2. NumPy\n",
    "3. Scikit-Learn\n",
    "4. TensorFlow"
   ]
  },
  {
   "cell_type": "markdown",
   "id": "373fc431-5f5d-40ce-a6e1-4d233a026cc9",
   "metadata": {},
   "source": [
    "### Data Science Tools\n",
    "\n",
    "| Jupyter | R Studio | VS Code|\n",
    "|---|---|---|\n",
    "|x|x|x|"
   ]
  },
  {
   "cell_type": "markdown",
   "id": "04d48b57-ac79-4227-94f8-ed0d50a12766",
   "metadata": {},
   "source": [
    "### Below are a few examples of evaluating arithmetic expressions in Python\n"
   ]
  },
  {
   "cell_type": "code",
   "execution_count": 3,
   "id": "9ed59445-5aca-4bff-916d-6466c80d4c94",
   "metadata": {},
   "outputs": [
    {
     "data": {
      "text/plain": [
       "17"
      ]
     },
     "execution_count": 3,
     "metadata": {},
     "output_type": "execute_result"
    }
   ],
   "source": [
    "# This a simple arithmetic expression to mutiply then add integers\n",
    "(3*4)+5"
   ]
  },
  {
   "cell_type": "code",
   "execution_count": 4,
   "id": "9c7239e6-643a-4199-8a3e-696b5bb4568a",
   "metadata": {},
   "outputs": [
    {
     "data": {
      "text/plain": [
       "3.3333333333333335"
      ]
     },
     "execution_count": 4,
     "metadata": {},
     "output_type": "execute_result"
    }
   ],
   "source": [
    "# This will convert 200 minutes to hours by diving by 60\n",
    "200 / 60"
   ]
  },
  {
   "cell_type": "markdown",
   "id": "f8db6e29-802a-47a9-9eb5-6b5f9e6dfc8c",
   "metadata": {},
   "source": [
    "## Author\n",
    "Sigi Karg"
   ]
  },
  {
   "cell_type": "code",
   "execution_count": null,
   "id": "beba7433-66b4-474e-9a87-367c3bc22f7a",
   "metadata": {},
   "outputs": [],
   "source": []
  }
 ],
 "metadata": {
  "kernelspec": {
   "display_name": "Python 3 (ipykernel)",
   "language": "python",
   "name": "python3"
  },
  "language_info": {
   "codemirror_mode": {
    "name": "ipython",
    "version": 3
   },
   "file_extension": ".py",
   "mimetype": "text/x-python",
   "name": "python",
   "nbconvert_exporter": "python",
   "pygments_lexer": "ipython3",
   "version": "3.12.4"
  }
 },
 "nbformat": 4,
 "nbformat_minor": 5
}
